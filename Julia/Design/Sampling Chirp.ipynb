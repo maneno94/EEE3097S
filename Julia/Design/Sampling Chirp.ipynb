{
 "cells": [
  {
   "cell_type": "code",
   "execution_count": 58,
   "metadata": {},
   "outputs": [
    {
     "data": {
      "image/png": "[encoded data removed]",
      "text/plain": [
       "Figure(PyObject <Figure size 640x480 with 1 Axes>)"
      ]
     },
     "metadata": {},
     "output_type": "display_data"
    },
    {
     "name": "stdout",
     "output_type": "stream",
     "text": [
      "8.333333333333333e-7"
     ]
    }
   ],
   "source": [
    "#STEP 1: Chirp pulse creation\n",
    "#import Pkg; Pkg.add(\"CSV\")\n",
    "#import Pkg; Pkg.add(\"DataFrames\")\n",
    "c = 343;  # Speed of sound in air in m/s\n",
    "B = 2000; # Chirp bandwidth\n",
    "fs = 1200000; # This is the sample rate of the sonar.\n",
    "dt = 1/fs; # This is the sample spacing\n",
    "print(dt);\n",
    "r_max = 10; # Maximum range in metres to which to simulate.\n",
    "t_max = 2*r_max/c; # Time delay to max range\n",
    "\n",
    "# Create an array containing the time values of the samples\n",
    "t = collect(0:dt:t_max); # t=0:dt:t_max defines a “range”.\n",
    "# Create an array containing the range values of the samples\n",
    "r = c*t/2;\n",
    "# NOW create the chirp pulse, shifted by an amount td, to start at\n",
    "# some time td-T/2>0.\n",
    "f0 = 41000; # Centre frequency is 40 kHz\n",
    "T = 5E-3; # Chirp pulse length\n",
    "K = B/T; # Chirp rate\n",
    "# Define a simple a rect() function which returns for -0.5<=t<=0.5 or 0.\n",
    "# The function will work if t is an array of values.\n",
    "rect(t) = (abs.(t) .<= 0.5)*1.0\n",
    "# rect(t/T) spans the interval [-T/2,T/2]\n",
    "# We must therefore delay the chirp pulse so that it starts after t=0.\n",
    "# Shift the chirp pulse by 0.6T units to the right, so that it starts at\n",
    "td = 0.51*T; # Chirp delay\n",
    "# Note: one can use the macro “@.” to avoid having to put “.” for arrays:\n",
    "# @. v_tx = cos( 2*pi*(f0*(t-td) + 0.5*K*(t-td).^2) ).*rect((t-td)/T);\n",
    "v_tx = cos.( 2*pi*(f0*(t .- td) + 0.5*K*(t .- td).^2) ) .* rect.((t .-td)/T);\n",
    "\n",
    "\n",
    "using PyPlot; pygui(false) # import plot library\n",
    "# If not installed, add the package via: using Pkg; Pkg.add(\"PyPlot\");\n",
    "figure() # Create a new figure\n",
    "plot(v_tx) # Basic plot, axis labeled in samples\n",
    "title(\"Chirp signal\")\n",
    "xlabel(\"Samples\");\n",
    "ylabel(\"Voltage\");\n"
   ]
  },
  {
   "cell_type": "code",
   "execution_count": 59,
   "metadata": {},
   "outputs": [],
   "source": [
    "#print(v_tx);"
   ]
  },
  {
   "cell_type": "code",
   "execution_count": 60,
   "metadata": {},
   "outputs": [
    {
     "name": "stderr",
     "output_type": "stream",
     "text": [
      "error in running finalizer: ErrorException("
     ]
    },
    {
     "name": "stdout",
     "output_type": "stream",
     "text": [
      "base64 binary data: T1MgZXJyb3IgY29kZSAwOiBUaGUgb3BlcmF0aW9uIGNvbXBsZXRlZCBzdWNjZXNzZnVsbHkuJQAAAAAAAAAFsAgAAAAAACUAAAAAAAAAQAAAAAAAAABvbXBsZXRlZCBzdWNjZXNzZnVsbHkuQ1NWIGNyZWF0ZWQKNjA2Ngppbml0aWFsQ291bnQKNjUKNjM5MDU=\n"
     ]
    },
    {
     "name": "stderr",
     "output_type": "stream",
     "text": [
      "\"From C:\\Users\\MikeR\\.julia\\packages\\LibSerialPort\\2dlyw\\src\\wrap.jl: 141:\n",
      "\n",
      "libserialport returned SP_ERR_ARG - Function was called with invalid arguments.\")\n",
      "error in running finalizer: ErrorException(\"From C:\\Users\\MikeR\\.julia\\packages\\LibSerialPort\\2dlyw\\src\\wrap.jl: 141:\n",
      "\n",
      "libserialport returned SP_ERR_ARG - Function was called with invalid arguments.\")\n",
      "error in running finalizer: ErrorException(\"task switch not allowed from inside gc finalizer\")\n",
      "error in running finalizer: ErrorException(\"From C:\\Users\\MikeR\\.julia\\packages\\LibSerialPort\\2dlyw\\src\\wrap.jl: 141:\n",
      "\n",
      "libserialport returned SP_ERR_ARG - Function was called with invalid arguments.\")\n",
      "error in running finalizer: ErrorException(\"task switch not allowed from inside gc finalizer\")\n"
     ]
    }
   ],
   "source": [
    "#set 2048 as mid point.\n",
    "#rmul!(v_tx, 128)\n",
    "count =0\n",
    "c=0\n",
    "p =\"{\" \n",
    "check = false\n",
    "DAC_array = Int[]\n",
    "zeroCount =0\n",
    "#open(\"delim_file.txt\", \"w\") do io\n",
    "for i = 1:length(v_tx)\n",
    "    z =2047.5 + 2047.5*v_tx[i]\n",
    "    y = round(z, digits=0)\n",
    "    b = string(y)\n",
    "    d = string(b,\", \")\n",
    "    #print(d)\n",
    "    p = string(p,d)\n",
    "    push!(DAC_array,y)\n",
    "    #writedlm(io, DAC_array, ',')\n",
    "    c =c+1\n",
    "    if(v_tx[i] > 0)\n",
    "        check = true\n",
    "        #zeroCount = zeroCount+1\n",
    "    end\n",
    "    if(v_tx[i] == 0)\n",
    "        zeroCount = zeroCount+1\n",
    "    end\n",
    "    if(v_tx[i] == 0 && check)\n",
    "        count =count +1\n",
    "    end \n",
    "    \n",
    "    if(count >=5)\n",
    "        break\n",
    "    end\n",
    "    \n",
    "end\n",
    "using DelimitedFiles\n",
    "#writedlm( \"DAC.csv\",  DAC_array[1:length(DAC_array)])\n",
    "#Awritedlm(f, A, delim='\\t'; opts)\n",
    "print(\"CSV created\")\n",
    "#print(DAC_array)\n",
    "print(\"\\n\")\n",
    "print(c)\n",
    "print(\"\\ninitialCount\\n\")\n",
    "print(zeroCount)\n",
    "println()\n",
    "print(length(v_tx)- length(DAC_array))\n",
    "#open(\"DAC_array.txt\", \"w\") do io\n",
    "#    writedlm(io, p)\n",
    "#end"
   ]
  },
  {
   "cell_type": "code",
   "execution_count": null,
   "metadata": {},
   "outputs": [],
   "source": []
  },
  {
   "cell_type": "code",
   "execution_count": 61,
   "metadata": {},
   "outputs": [],
   "source": [
    "D_array = collect(0:dt:t_max)\n",
    "for i = 1:length(v_tx)\n",
    "    if(v_tx[i]<=0)\n",
    "        D_array[i] =0\n",
    "    else\n",
    "        D_array[i] =1\n",
    "    end\n",
    "end\n",
    "    \n",
    "#print(D_array)"
   ]
  },
  {
   "cell_type": "code",
   "execution_count": 62,
   "metadata": {},
   "outputs": [
    {
     "name": "stdout",
     "output_type": "stream",
     "text": [
      "\u001b[32m\u001b[1m Resolving\u001b[22m\u001b[39m package versions...\n",
      "\u001b[32m\u001b[1m  Updating\u001b[22m\u001b[39m `C:\\Users\\MikeR\\.julia\\environments\\v1.1\\Project.toml`\n",
      "\u001b[90m [no changes]\u001b[39m\n",
      "\u001b[32m\u001b[1m  Updating\u001b[22m\u001b[39m `C:\\Users\\MikeR\\.julia\\environments\\v1.1\\Manifest.toml`\n",
      "\u001b[90m [no changes]\u001b[39m\n"
     ]
    }
   ],
   "source": [
    "using Pkg; Pkg.add(\"SerialPorts\")"
   ]
  },
  {
   "cell_type": "code",
   "execution_count": 12,
   "metadata": {},
   "outputs": [
    {
     "name": "stdout",
     "output_type": "stream",
     "text": [
      "OS error code 0: The operation completed successfully."
     ]
    },
    {
     "name": "stderr",
     "output_type": "stream",
     "text": [
      "error in running finalizer: ErrorException(\"task switch not allowed from inside gc finalizer\")\n",
      "WARNING: using SerialPorts.SerialPort in module Main conflicts with an existing identifier.\n"
     ]
    },
    {
     "data": {
      "text/plain": [
       "1-element Array{String,1}:\n",
       " \"COM6\""
      ]
     },
     "execution_count": 12,
     "metadata": {},
     "output_type": "execute_result"
    }
   ],
   "source": []
  },
  {
   "cell_type": "code",
   "execution_count": 18,
   "metadata": {},
   "outputs": [
    {
     "ename": "MethodError",
     "evalue": "MethodError: no method matching SerialPort(::String, ::Int64)\nClosest candidates are:\n  SerialPort(::Any, ::Any, !Matched::Any) at C:\\Users\\MikeR\\.julia\\packages\\LibSerialPort\\2dlyw\\src\\high-level-api.jl:7\n  SerialPort(::AbstractString) at C:\\Users\\MikeR\\.julia\\packages\\LibSerialPort\\2dlyw\\src\\high-level-api.jl:18",
     "output_type": "error",
     "traceback": [
      "MethodError: no method matching SerialPort(::String, ::Int64)\nClosest candidates are:\n  SerialPort(::Any, ::Any, !Matched::Any) at C:\\Users\\MikeR\\.julia\\packages\\LibSerialPort\\2dlyw\\src\\high-level-api.jl:7\n  SerialPort(::AbstractString) at C:\\Users\\MikeR\\.julia\\packages\\LibSerialPort\\2dlyw\\src\\high-level-api.jl:18",
      "",
      "Stacktrace:",
      " [1] top-level scope at In[18]:3"
     ]
    }
   ],
   "source": [
    "using SerialPorts\n",
    "list_serialports() # show available ports\n",
    "#sp = SerialPort(\"/dev/ttyACM0\", 9600) # Linux example to open a port\n",
    "sp = SerialPort(\"COM6\", 9600) # On windows try \"COM4:\"\n",
    "write(sp, 'c') # write a string to the port (or use a binary data type)\n",
    "#sleep(0.1) # Give time for a response from the micro\n",
    "write(sp, 'p') # write a string to the port (or use a binary data type)\n",
    "s = readavailable(sp) # read from the port (s is now of type String)\n",
    "print(\"String\")\n",
    "println(s)\n",
    "x = Vector{UInt8}(s) # Convert string to an array of Uint8 integers.\n",
    "println(x)\n",
    "close(sp) # close the port"
   ]
  },
  {
   "cell_type": "code",
   "execution_count": 8,
   "metadata": {},
   "outputs": [
    {
     "name": "stdout",
     "output_type": "stream",
     "text": [
      "COM6\n",
      "\tDescription:\tUSB Serial Device (COM6)\n",
      "\tTransport type:\tSP_TRANSPORT_USB\n",
      "COM6\n",
      "\tDescription:\tUSB Serial Device (COM6)\n",
      "\tTransport type:\tSP_TRANSPORT_USB\n",
      "COM6\n",
      "\tDescription:\tUSB Serial Device (COM6)\n",
      "\tTransport type:\tSP_TRANSPORT_USB\n",
      "COM6\n",
      "\tDescription:\tUSB Serial Device (COM6)\n",
      "\tTransport type:\tSP_TRANSPORT_USB\n",
      "Yes\n",
      "RIP\n",
      "Bytes available:96\n",
      "57\n",
      "49\n",
      "13\n",
      "10\n",
      "57\n",
      "57\n",
      "52\n",
      "13\n",
      "10\n",
      "49\n",
      "48\n",
      "55\n",
      "54\n",
      "13\n",
      "10\n",
      "49\n",
      "50\n",
      "51\n",
      "54\n",
      "13\n",
      "10\n",
      "49\n",
      "49\n",
      "57\n",
      "49\n",
      "13\n",
      "10\n",
      "49\n",
      "49\n",
      "49\n",
      "56\n",
      "13\n",
      "10\n",
      "49\n",
      "51\n",
      "55\n",
      "48\n",
      "13\n",
      "10\n",
      "49\n",
      "53\n",
      "57\n",
      "49\n",
      "13\n",
      "10\n",
      "49\n",
      "53\n",
      "55\n",
      "49\n",
      "13\n",
      "10\n",
      "49\n",
      "54\n",
      "55\n",
      "57\n",
      "13\n",
      "10\n",
      "49\n",
      "50\n",
      "55\n",
      "57\n",
      "13\n",
      "10\n",
      "49\n",
      "67\n",
      "111\n",
      "110\n",
      "118\n",
      "101\n",
      "114\n",
      "115\n",
      "105\n",
      "111\n",
      "110\n",
      "32\n",
      "99\n",
      "111\n",
      "109\n",
      "112\n",
      "108\n",
      "101\n",
      "116\n",
      "101\n",
      "32\n",
      "105\n",
      "110\n",
      "32\n",
      "53\n",
      "57\n",
      "57\n",
      "57\n",
      "56\n",
      "32\n",
      "117\n",
      "115\n",
      "10\n"
     ]
    },
    {
     "data": {
      "text/plain": [
       "SerialPort(Ptr{LibSerialPort.SPPort} @0x0000000024bdef20, false, false)"
      ]
     },
     "execution_count": 8,
     "metadata": {},
     "output_type": "execute_result"
    }
   ],
   "source": [
    "# TYPICAL USAGE\n",
    "using LibSerialPort\n",
    "list_ports() # Show available ports.\n",
    "println(\"Yes\")\n",
    "sp=open(\"COM6\",9600) # Or whatever in Linux, Windows or Mac.\n",
    "println(\"RIP\")\n",
    "write(sp, \"c\") # This writes out the ASCII codes for H, e, l, l and o.\n",
    "\n",
    "sleep(0.2) # Give time for a response from the micro\n",
    "# Check if some data is now in the receive buffer:\n",
    "\n",
    "write(sp,\"p\") # Print DMA buffer\n",
    "BytesAvailable = bytesavailable(sp) # Number of bytes available in the buffer\n",
    "println(\"Bytes available:\",BytesAvailable)\n",
    "x=zeros(UInt8,BytesAvailable) # Create an Uint8 array into which to read the bytes.\n",
    "for n = 1:BytesAvailable\n",
    " x[n]=read(sp,UInt8)\n",
    " #println(Int(x[n]))\n",
    "end\n",
    "for n in x\n",
    "    println(n)\n",
    "end\n",
    "close(sp) # Close the port.\n",
    "\n"
   ]
  },
  {
   "cell_type": "code",
   "execution_count": 66,
   "metadata": {},
   "outputs": [
    {
     "data": {
      "text/plain": [
       "\"The operation completed successfully.\""
      ]
     },
     "execution_count": 66,
     "metadata": {},
     "output_type": "execute_result"
    }
   ],
   "source": [
    "sp_last_error_message()"
   ]
  },
  {
   "cell_type": "code",
   "execution_count": 67,
   "metadata": {},
   "outputs": [
    {
     "name": "stdout",
     "output_type": "stream",
     "text": [
      "\u001b[32m\u001b[1m Resolving\u001b[22m\u001b[39m package versions...\n",
      "\u001b[32m\u001b[1m  Updating\u001b[22m\u001b[39m `C:\\Users\\MikeR\\.julia\\environments\\v1.1\\Project.toml`\n",
      "\u001b[90m [no changes]\u001b[39m\n",
      "\u001b[32m\u001b[1m  Updating\u001b[22m\u001b[39m `C:\\Users\\MikeR\\.julia\\environments\\v1.1\\Manifest.toml`\n",
      "\u001b[90m [no changes]\u001b[39m\n"
     ]
    }
   ],
   "source": [
    "import Pkg; Pkg.add(\"LibSerialPort\")"
   ]
  },
  {
   "cell_type": "code",
   "execution_count": 68,
   "metadata": {},
   "outputs": [
    {
     "data": {
      "text/latex": [
       "The analogue of IPython's \\texttt{\\%time statement} (also \\texttt{\\%timeit}) in Julia is \\texttt{@time statement}.  The analogue of \\texttt{\\%\\%time ...code...} is\n",
       "\n",
       "\\begin{verbatim}\n",
       "@time begin\n",
       "    ...code...\n",
       "end\n",
       "\\end{verbatim}\n",
       "Note, however, that you should put all performance-critical code into a function, avoiding global variables, before doing performance measurements in Julia; see the \\href{http://docs.julialang.org/en/latest/manual/performance-tips/}{performance tips in the Julia manual}.\n",
       "\n",
       "The \\texttt{@time} macro prints the timing results, and returns the value of evaluating the expression.  To instead return the time (in seconds), use \\texttt{@elapsed statement}.\n",
       "\n",
       "For more extensive benchmarking tools, including the ability to collect statistics from multiple runs, see the \\href{https://github.com/JuliaCI/BenchmarkTools.jl}{BenchmarkTools package}.\n",
       "\n"
      ],
      "text/markdown": [
       "The analogue of IPython's `%time statement` (also `%timeit`) in Julia is `@time statement`.  The analogue of `%%time ...code...` is\n",
       "\n",
       "```\n",
       "@time begin\n",
       "    ...code...\n",
       "end\n",
       "```\n",
       "\n",
       "Note, however, that you should put all performance-critical code into a function, avoiding global variables, before doing performance measurements in Julia; see the [performance tips in the Julia manual](http://docs.julialang.org/en/latest/manual/performance-tips/).\n",
       "\n",
       "The `@time` macro prints the timing results, and returns the value of evaluating the expression.  To instead return the time (in seconds), use `@elapsed statement`.\n",
       "\n",
       "For more extensive benchmarking tools, including the ability to collect statistics from multiple runs, see the [BenchmarkTools package](https://github.com/JuliaCI/BenchmarkTools.jl).\n"
      ],
      "text/plain": [
       "  The analogue of IPython's \u001b[36m%time statement\u001b[39m (also \u001b[36m%timeit\u001b[39m) in Julia is \u001b[36m@time\n",
       "  statement\u001b[39m. The analogue of \u001b[36m%%time ...code...\u001b[39m is\n",
       "\n",
       "\u001b[36m  @time begin\u001b[39m\n",
       "\u001b[36m      ...code...\u001b[39m\n",
       "\u001b[36m  end\u001b[39m\n",
       "\n",
       "  Note, however, that you should put all performance-critical code into a\n",
       "  function, avoiding global variables, before doing performance measurements\n",
       "  in Julia; see the performance tips in the Julia manual\n",
       "  (http://docs.julialang.org/en/latest/manual/performance-tips/).\n",
       "\n",
       "  The \u001b[36m@time\u001b[39m macro prints the timing results, and returns the value of\n",
       "  evaluating the expression. To instead return the time (in seconds), use\n",
       "  \u001b[36m@elapsed statement\u001b[39m.\n",
       "\n",
       "  For more extensive benchmarking tools, including the ability to collect\n",
       "  statistics from multiple runs, see the BenchmarkTools package\n",
       "  (https://github.com/JuliaCI/BenchmarkTools.jl)."
      ]
     },
     "metadata": {},
     "output_type": "display_data"
    }
   ],
   "source": [
    "%%time\n",
    "r = ser.read_all() # clear serial buffer\n",
    "\n",
    "# Start a conversion\n",
    "ser.write(b'c')\n",
    "while ser.in_waiting < 1:\n",
    "    pass # wait for a response\n",
    "time.sleep(0.05) # This extra delay helps with reliability - it gives the micro time to send all it needs to\n",
    "r = ser.read_all()\n",
    "#print(\"fadgjaoigr\")\n",
    "print(r) # Prints the time\n",
    "\n",
    "# Get the values\n",
    "ser.write(b'p') # Print DMA buffer\n",
    "while ser.in_waiting < 1:\n",
    "    pass # wait for a response\n",
    "\n",
    "a = []\n",
    "i = 0\n",
    "while True:\n",
    "    if ser.in_waiting < 1:\n",
    "        time.sleep(0.005) # Wait and check again\n",
    "        if ser.in_waiting < 1:\n",
    "            break\n",
    "    b = ser.readline()\n",
    "    a.append(b)\n",
    "    i += 1\n",
    "    \n",
    "print(len(a), i) # Should be 10000 readings\n",
    "\n",
    "ser.close() # Close the connection when you're done."
   ]
  },
  {
   "cell_type": "code",
   "execution_count": 69,
   "metadata": {},
   "outputs": [
    {
     "ename": "MethodError",
     "evalue": "MethodError: no method matching console(::String, ::String)\nClosest candidates are:\n  console(::Any) at In[69]:46",
     "output_type": "error",
     "traceback": [
      "MethodError: no method matching console(::String, ::String)\nClosest candidates are:\n  console(::Any) at In[69]:46",
      "",
      "Stacktrace:",
      " [1] top-level scope at In[69]:58"
     ]
    }
   ],
   "source": [
    "# Basic serial console.\n",
    "# Data is read from a serial device and lines (but not individual keypresses)\n",
    "# are written to the device asynchronously.\n",
    "\n",
    "using LibSerialPort\n",
    "\n",
    "function serial_loop(sp::SerialPort)\n",
    "    input_line = \"\"\n",
    "    mcu_message = \"\"\n",
    "    #sp=open(\"COM6:\",115200)\n",
    "    println(\"Starting I/O loop. Press ESC [return] to quit\")\n",
    "\n",
    "    while true\n",
    "        # Poll for new data without blocking\n",
    "        @async input_line = readline(keep=true)\n",
    "        @async mcu_message *= read(sp, String)\n",
    "\n",
    "        # Alternative read method:\n",
    "        # Requires setting a timeout and may cause bottlenecks\n",
    "        # @async mcu_message = readuntil(sp, \"\\r\\n\", 50)\n",
    "\n",
    "        occursin(\"\\e\", input_line) && exit()\n",
    "\n",
    "        # Send user input to device\n",
    "        if endswith(input_line, '\\n')\n",
    "            write(sp, \"$input_line\")\n",
    "            input_line = \"\"\n",
    "        end\n",
    "\n",
    "        # Print message from device\n",
    "        if occursin(\"\\r\\n\", mcu_message)\n",
    "            lines = split(mcu_message, \"\\r\\n\")\n",
    "            while length(lines) > 1\n",
    "                println(popfirst!(lines))\n",
    "            end\n",
    "            mcu_message = lines[1]\n",
    "        end\n",
    "\n",
    "        # Give the queued tasks a chance to run\n",
    "        sleep(0.0001)\n",
    "    end\n",
    "end\n",
    "\n",
    "function console(args)\n",
    "\n",
    "    if length(args) != 2\n",
    "        println(\"Usage: $(basename(@__FILE__)) port baudrate\")\n",
    "        println(\"Available ports:\")\n",
    "        list_ports()\n",
    "        return\n",
    "    end\n",
    "\n",
    "    # Open a serial connection to the microcontroller\n",
    "    mcu = open(args[1], parse(Int, args[2]))\n",
    "\n",
    "    serial_loop(mcu)\n",
    "end\n",
    "\n",
    "console(\"COM6\",\"115200\")"
   ]
  },
  {
   "cell_type": "code",
   "execution_count": 70,
   "metadata": {},
   "outputs": [
    {
     "name": "stdout",
     "output_type": "stream",
     "text": [
      "\u001b[32m\u001b[1m Resolving\u001b[22m\u001b[39m package versions...\n",
      "\u001b[32m\u001b[1m  Updating\u001b[22m\u001b[39m `C:\\Users\\MikeR\\.julia\\environments\\v1.1\\Project.toml`\n",
      "\u001b[90m [no changes]\u001b[39m\n",
      "\u001b[32m\u001b[1m  Updating\u001b[22m\u001b[39m `C:\\Users\\MikeR\\.julia\\environments\\v1.1\\Manifest.toml`\n",
      "\u001b[90m [no changes]\u001b[39m\n"
     ]
    },
    {
     "ename": "Pkg.Types.PkgError",
     "evalue": "The following package names could not be resolved:\n * PySerial (not found in project, manifest or registry)\nPlease specify by known `name=uuid`.",
     "output_type": "error",
     "traceback": [
      "The following package names could not be resolved:\n * PySerial (not found in project, manifest or registry)\nPlease specify by known `name=uuid`.",
      "",
      "Stacktrace:",
      " [1] pkgerror(::String) at C:\\cygwin\\home\\Administrator\\buildbot\\worker\\package_win64\\build\\usr\\share\\julia\\stdlib\\v1.1\\Pkg\\src\\Types.jl:120",
      " [2] #ensure_resolved#72(::Bool, ::Function, ::Pkg.Types.EnvCache, ::Array{Pkg.Types.PackageSpec,1}) at C:\\cygwin\\home\\Administrator\\buildbot\\worker\\package_win64\\build\\usr\\share\\julia\\stdlib\\v1.1\\Pkg\\src\\Types.jl:1010",
      " [3] #ensure_resolved at .\\none:0 [inlined]",
      " [4] #add_or_develop#15(::Symbol, ::Bool, ::Base.Iterators.Pairs{Union{},Union{},Tuple{},NamedTuple{(),Tuple{}}}, ::Function, ::Pkg.Types.Context, ::Array{Pkg.Types.PackageSpec,1}) at C:\\cygwin\\home\\Administrator\\buildbot\\worker\\package_win64\\build\\usr\\share\\julia\\stdlib\\v1.1\\Pkg\\src\\API.jl:49",
      " [5] #add_or_develop at .\\none:0 [inlined]",
      " [6] #add_or_develop#14 at C:\\cygwin\\home\\Administrator\\buildbot\\worker\\package_win64\\build\\usr\\share\\julia\\stdlib\\v1.1\\Pkg\\src\\API.jl:31 [inlined]",
      " [7] #add_or_develop at .\\none:0 [inlined]",
      " [8] #add_or_develop#13 at C:\\cygwin\\home\\Administrator\\buildbot\\worker\\package_win64\\build\\usr\\share\\julia\\stdlib\\v1.1\\Pkg\\src\\API.jl:29 [inlined]",
      " [9] #add_or_develop at .\\none:0 [inlined]",
      " [10] #add_or_develop#12(::Base.Iterators.Pairs{Symbol,Symbol,Tuple{Symbol},NamedTuple{(:mode,),Tuple{Symbol}}}, ::Function, ::String) at C:\\cygwin\\home\\Administrator\\buildbot\\worker\\package_win64\\build\\usr\\share\\julia\\stdlib\\v1.1\\Pkg\\src\\API.jl:28",
      " [11] add(::String) at .\\none:0",
      " [12] top-level scope at In[70]:2"
     ]
    }
   ],
   "source": [
    " import Pkg; Pkg.add(\"PyCall\")\n",
    "import Pkg; Pkg.add(\"PySerial\")"
   ]
  },
  {
   "cell_type": "code",
   "execution_count": 71,
   "metadata": {},
   "outputs": [
    {
     "ename": "ArgumentError",
     "evalue": "ArgumentError: Package PySerial not found in current path:\n- Run `import Pkg; Pkg.add(\"PySerial\")` to install the PySerial package.\n",
     "output_type": "error",
     "traceback": [
      "ArgumentError: Package PySerial not found in current path:\n- Run `import Pkg; Pkg.add(\"PySerial\")` to install the PySerial package.\n",
      "",
      "Stacktrace:",
      " [1] require(::Module, ::Symbol) at .\\loading.jl:823",
      " [2] top-level scope at In[71]:1"
     ]
    }
   ],
   "source": [
    "\n",
    "using PySerial\n",
    "\n",
    "# construct a serial port object\n",
    "# positional and keyword arguments can be used just like in the python module\n",
    "ser = Serial(\"/dev/ttyUSB0\", baudrate=19200) \n",
    "\n",
    "# read all the waiting characters and output them on the terminal\n",
    "w = inWaiting(ser)\n",
    "if w > 0\n",
    "  s = read(ser,w)\n",
    "  print(s)\n",
    "end\n",
    "\n",
    "# close the serial port\n",
    "close(ser)"
   ]
  },
  {
   "cell_type": "code",
   "execution_count": 72,
   "metadata": {},
   "outputs": [
    {
     "ename": "ArgumentError",
     "evalue": "ArgumentError: Package PySerial not found in current path:\n- Run `import Pkg; Pkg.add(\"PySerial\")` to install the PySerial package.\n",
     "output_type": "error",
     "traceback": [
      "ArgumentError: Package PySerial not found in current path:\n- Run `import Pkg; Pkg.add(\"PySerial\")` to install the PySerial package.\n",
      "",
      "Stacktrace:",
      " [1] require(::Module, ::Symbol) at .\\loading.jl:823",
      " [2] top-level scope at In[72]:1"
     ]
    }
   ],
   "source": [
    "using PySerial\n",
    "\n",
    "function serial2tty(s)\n",
    "  while true\n",
    "   w = inWaiting(ser)\n",
    "   if w > 0\n",
    "     s = read(ser,w)\n",
    "     print(s)\n",
    "   end\n",
    "   sleep(0.001)\n",
    "  end\n",
    "end\n",
    "\n",
    "function tty2serial(s)\n",
    "  while !eof(STDIN)\n",
    "    c = read(STDIN, Uint8) # it seems to be buffered until newline, that's not so good for a general terminal application, but ok...\n",
    "    write(s,[c])\n",
    "  end\n",
    "end\n",
    "\n",
    "port = length(ARGS) > 0 ? ARGS[1] : \"/dev/ttyUSB0\"\n",
    "baudrate = length(ARGS) > 1 ? int(ARGS[2]) : 9600\n",
    "\n",
    "ser = Serial(port, baudrate=baudrate)\n",
    "println(\"== Welcome to juliaterm.jl! Port: $port, baudrate: $baudrate ==\")\n",
    "\n",
    "@async serial2tty(ser)\n",
    "tty2serial(ser)"
   ]
  },
  {
   "cell_type": "code",
   "execution_count": null,
   "metadata": {},
   "outputs": [],
   "source": []
  }
 ],
 "metadata": {
  "kernelspec": {
   "display_name": "Julia 1.1.0",
   "language": "julia",
   "name": "julia-1.1"
  },
  "language_info": {
   "file_extension": ".jl",
   "mimetype": "application/julia",
   "name": "julia",
   "version": "1.1.0"
  }
 },
 "nbformat": 4,
 "nbformat_minor": 2
}
